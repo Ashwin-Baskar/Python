{
 "cells": [
  {
   "cell_type": "markdown",
   "metadata": {},
   "source": [
    "# Numpy Exercise  <img src = \"numpy1.png\">\n",
    "###### Authored by T.K.Senthil Kumar"
   ]
  },
  {
   "cell_type": "markdown",
   "metadata": {},
   "source": [
    "#### 1. Create a numpy array with the number of elements equals your age. The value of array elements is a random number between 10 to your age "
   ]
  },
  {
   "cell_type": "code",
   "execution_count": 1,
   "metadata": {},
   "outputs": [
    {
     "data": {
      "text/plain": [
       "array([13, 11, 12, 21, 13, 23, 13, 22, 22, 15, 16, 15, 23, 11, 19, 20, 11,\n",
       "       19, 16, 14, 21, 15, 17, 13])"
      ]
     },
     "execution_count": 1,
     "metadata": {},
     "output_type": "execute_result"
    }
   ],
   "source": [
    "#Solution\n",
    "import numpy as np\n",
    "numpy_array_1=np.random.randint(10, high=24, size=(24))\n",
    "numpy_array_1"
   ]
  },
  {
   "cell_type": "markdown",
   "metadata": {},
   "source": [
    "#### 2. Create a numpy array between 1 to 50 with the span(space) of 2 and print the length of the array"
   ]
  },
  {
   "cell_type": "code",
   "execution_count": 2,
   "metadata": {},
   "outputs": [
    {
     "data": {
      "text/plain": [
       "25"
      ]
     },
     "execution_count": 2,
     "metadata": {},
     "output_type": "execute_result"
    }
   ],
   "source": [
    "# Solution\n",
    "numpy_array_2=np.arange(1, 50, step=2)\n",
    "len(numpy_array_2)"
   ]
  },
  {
   "cell_type": "markdown",
   "metadata": {},
   "source": [
    "#### 3. Create an equally spaced numpy array with 27 elements between 4 and 7 "
   ]
  },
  {
   "cell_type": "code",
   "execution_count": 3,
   "metadata": {},
   "outputs": [
    {
     "data": {
      "text/plain": [
       "array([4.        , 4.11538462, 4.23076923, 4.34615385, 4.46153846,\n",
       "       4.57692308, 4.69230769, 4.80769231, 4.92307692, 5.03846154,\n",
       "       5.15384615, 5.26923077, 5.38461538, 5.5       , 5.61538462,\n",
       "       5.73076923, 5.84615385, 5.96153846, 6.07692308, 6.19230769,\n",
       "       6.30769231, 6.42307692, 6.53846154, 6.65384615, 6.76923077,\n",
       "       6.88461538, 7.        ])"
      ]
     },
     "execution_count": 3,
     "metadata": {},
     "output_type": "execute_result"
    }
   ],
   "source": [
    "# Solution\n",
    "numpy_array_3=np.linspace(4,7,27)\n",
    "numpy_array_3"
   ]
  },
  {
   "cell_type": "markdown",
   "metadata": {},
   "source": [
    "#### 4. Create a matrix of size (5 x 4) with random numbers and round off the each elements by only 2 fractional points."
   ]
  },
  {
   "cell_type": "code",
   "execution_count": 4,
   "metadata": {},
   "outputs": [
    {
     "data": {
      "text/plain": [
       "array([[52.49, 67.6 , 52.29, 57.35],\n",
       "       [ 2.48, 69.74,  5.57, 50.97],\n",
       "       [81.09, 87.8 , 40.55, 91.57],\n",
       "       [33.67, 12.53, 63.5 , 91.38],\n",
       "       [84.6 , 69.86, 78.23, 79.74]])"
      ]
     },
     "execution_count": 4,
     "metadata": {},
     "output_type": "execute_result"
    }
   ],
   "source": [
    "# Solution\n",
    "numpy_array_4=(100*np.random.sample(size=(5,4))).round(2)\n",
    "numpy_array_4"
   ]
  },
  {
   "cell_type": "markdown",
   "metadata": {},
   "source": [
    "#### 5. Create a matrix of size (5x5) with random integers between 5 to 15"
   ]
  },
  {
   "cell_type": "code",
   "execution_count": 5,
   "metadata": {},
   "outputs": [
    {
     "name": "stdout",
     "output_type": "stream",
     "text": [
      "Numpy_array:\n",
      " [[ 9 12  6 13  9]\n",
      " [ 8  6 13 10 10]\n",
      " [11  5  5 12 11]\n",
      " [ 7  9 14 12  8]\n",
      " [ 5  5 13  7 12]]\n",
      "Shape of numpy_array: (5, 5)\n"
     ]
    }
   ],
   "source": [
    "# Solution\n",
    "numpy_array_5=np.random.randint(5, high=15, size=(5,5))\n",
    "print('Numpy_array:\\n',numpy_array_5)\n",
    "print('Shape of numpy_array:',numpy_array_5.shape)"
   ]
  },
  {
   "cell_type": "markdown",
   "metadata": {},
   "source": [
    "#### 6. Create the one dimensional array of zeros of random length below 20 with the data type int32"
   ]
  },
  {
   "cell_type": "code",
   "execution_count": 6,
   "metadata": {},
   "outputs": [
    {
     "name": "stdout",
     "output_type": "stream",
     "text": [
      "Numpy_array: [0 0 0 0 0 0 0 0 0]\n",
      "Shape of numpy_array: (9,)\n",
      "Datatype of numpy_array: int32\n"
     ]
    }
   ],
   "source": [
    "# Solution\n",
    "numpy_array_6=np.zeros(shape=np.random.randint(20),dtype='int32')\n",
    "\n",
    "print('Numpy_array:',numpy_array_6)\n",
    "print('Shape of numpy_array:',numpy_array_6.shape)\n",
    "print('Datatype of numpy_array:',numpy_array_6.dtype)"
   ]
  },
  {
   "cell_type": "markdown",
   "metadata": {},
   "source": [
    "#### 7. Create a two dimensional array of ones of random row and column lengths with the data type of float32 "
   ]
  },
  {
   "cell_type": "code",
   "execution_count": 7,
   "metadata": {},
   "outputs": [
    {
     "data": {
      "text/plain": [
       "array([], shape=(0, 19), dtype=float32)"
      ]
     },
     "execution_count": 7,
     "metadata": {},
     "output_type": "execute_result"
    }
   ],
   "source": [
    "# Solution\n",
    "#numpy_array_7=np.random.random_sample(size=(np.random.randint(20),np.random.randint(20)))*100\n",
    "numpy_array_7=np.ones(shape=(np.random.randint(20),np.random.randint(20)),dtype='float32')\n",
    "numpy_array_7"
   ]
  },
  {
   "cell_type": "markdown",
   "metadata": {},
   "source": [
    "#### 8. Create a matrix exactly as same as shown below and print its shape, type and dtype\n",
    "<img src = \"np_mat1.png\">"
   ]
  },
  {
   "cell_type": "code",
   "execution_count": 8,
   "metadata": {},
   "outputs": [
    {
     "name": "stdout",
     "output_type": "stream",
     "text": [
      "Shape of numpy_array: (5, 5)\n",
      "Type of numpy_array: <class 'numpy.ndarray'>\n",
      "Datatype of numpy_array: int32\n"
     ]
    }
   ],
   "source": [
    "# Solution\n",
    "numpy_array_8=np.array([[9,25,50,34,45],[3,34,34,65,2],[5,7,3,76,3],[7,8,6,54,6],[23,12,8,5,8]])\n",
    "print('Shape of numpy_array:',numpy_array_8.shape)\n",
    "print('Type of numpy_array:',type(numpy_array_8))\n",
    "print('Datatype of numpy_array:',numpy_array_8.dtype)"
   ]
  },
  {
   "cell_type": "markdown",
   "metadata": {},
   "source": [
    "#### 9. Access the center pixel of the matrix defined in the question no 8 ( Don't enter the row and column index explicitely)"
   ]
  },
  {
   "cell_type": "code",
   "execution_count": 9,
   "metadata": {},
   "outputs": [
    {
     "name": "stdout",
     "output_type": "stream",
     "text": [
      "Centre pixel of the matrix: 3\n"
     ]
    }
   ],
   "source": [
    "#Solution\n",
    "print('Centre pixel of the matrix:',numpy_array_8[int(numpy_array_8.shape[0]/2),int(numpy_array_8.shape[1]/2)])"
   ]
  },
  {
   "cell_type": "markdown",
   "metadata": {},
   "source": [
    "#### 10. Print the all the elements of 3rd row of the matrix"
   ]
  },
  {
   "cell_type": "code",
   "execution_count": 10,
   "metadata": {},
   "outputs": [
    {
     "name": "stdout",
     "output_type": "stream",
     "text": [
      "3rd Row: [ 5  7  3 76  3]\n"
     ]
    }
   ],
   "source": [
    "# Solution\n",
    "print('3rd Row:', numpy_array_8[2])"
   ]
  },
  {
   "cell_type": "markdown",
   "metadata": {},
   "source": [
    "#### 11. Print the all the elements of 4th columns of the matrix"
   ]
  },
  {
   "cell_type": "code",
   "execution_count": 11,
   "metadata": {},
   "outputs": [
    {
     "name": "stdout",
     "output_type": "stream",
     "text": [
      "4th Column: [34 65 76 54  5]\n"
     ]
    }
   ],
   "source": [
    "# Solution\n",
    "print('4th Column:', numpy_array_8[:,3])"
   ]
  },
  {
   "cell_type": "markdown",
   "metadata": {},
   "source": [
    "#### 12. Print the 4 corner pixels of the matrix"
   ]
  },
  {
   "cell_type": "code",
   "execution_count": 12,
   "metadata": {},
   "outputs": [
    {
     "name": "stdout",
     "output_type": "stream",
     "text": [
      "4th corner pixel: 8\n"
     ]
    }
   ],
   "source": [
    "# Solution\n",
    "print('4th corner pixel:', numpy_array_8[numpy_array_8.shape[0]-1,numpy_array_8.shape[1]-1])"
   ]
  },
  {
   "cell_type": "markdown",
   "metadata": {},
   "source": [
    "#### 13. Create three matrix m1,m2,m3 with the elements grouped in the figure below\n",
    "<img src = \"np_mat2.png\">"
   ]
  },
  {
   "cell_type": "code",
   "execution_count": 13,
   "metadata": {},
   "outputs": [
    {
     "name": "stdout",
     "output_type": "stream",
     "text": [
      "m1:\n",
      " [[50 34]\n",
      " [34 65]]\n",
      "\n",
      "m2:\n",
      " [[ 7  8]\n",
      " [23 12]]\n",
      "\n",
      "m3:\n",
      " [[ 3 76  3]\n",
      " [ 6 54  6]\n",
      " [ 8  5  8]]\n"
     ]
    }
   ],
   "source": [
    "# Solution\n",
    "numpy_array_9=np.array([[9,25,50,34,45],[3,34,34,65,2],[5,7,3,76,3],[7,8,6,54,6],[23,12,8,5,8]])\n",
    "m1=numpy_array_9[:2,2:4]\n",
    "m2=numpy_array_9[3:,:2]\n",
    "m3=numpy_array_9[2:,2:]\n",
    "print('m1:\\n',m1)\n",
    "print('\\nm2:\\n',m2)\n",
    "print('\\nm3:\\n',m3)"
   ]
  },
  {
   "cell_type": "markdown",
   "metadata": {},
   "source": [
    "#### 14. Reshape all the three matrix segmented in the above task in to three  1-dimensional vector."
   ]
  },
  {
   "cell_type": "code",
   "execution_count": 14,
   "metadata": {},
   "outputs": [
    {
     "name": "stdout",
     "output_type": "stream",
     "text": [
      "Reshaped m1: [50 34 34 65]\n",
      "Reshaped m2: [ 7  8 23 12]\n",
      "Reshaped m3: [ 3 76  3  6 54  6  8  5  8]\n"
     ]
    }
   ],
   "source": [
    "# Solution\n",
    "print('Reshaped m1:',m1.flat[:])\n",
    "print('Reshaped m2:',m2.flat[:])\n",
    "print('Reshaped m3:',m3.flat[:])"
   ]
  },
  {
   "cell_type": "markdown",
   "metadata": {},
   "source": [
    "#### 15. Concatenate the matrix m1 and m2 in both vertical and horizontal direction"
   ]
  },
  {
   "cell_type": "code",
   "execution_count": 15,
   "metadata": {},
   "outputs": [
    {
     "name": "stdout",
     "output_type": "stream",
     "text": [
      "Vertical matrix concatenation:\n",
      " [[50 34]\n",
      " [34 65]\n",
      " [ 7  8]\n",
      " [23 12]]\n",
      "\n",
      "Horizontal matrix concatenation:\n",
      " [[50 34  7  8]\n",
      " [34 65 23 12]]\n"
     ]
    }
   ],
   "source": [
    "# Solution\n",
    "print('Vertical matrix concatenation:\\n',np.concatenate((m1,m2),axis=0))\n",
    "print('\\nHorizontal matrix concatenation:\\n',np.concatenate((m1,m2),axis=1))"
   ]
  },
  {
   "cell_type": "markdown",
   "metadata": {},
   "source": [
    "#### 16. Add, Subtract, multiply, divide the matrixes m1 and m2"
   ]
  },
  {
   "cell_type": "code",
   "execution_count": 16,
   "metadata": {},
   "outputs": [
    {
     "name": "stdout",
     "output_type": "stream",
     "text": [
      "Addition:\n",
      " [[57 42]\n",
      " [57 77]]\n",
      "\n",
      "Subtraction:\n",
      " [[43 26]\n",
      " [11 53]]\n",
      "\n",
      "Multiplicaton:\n",
      " [[350 272]\n",
      " [782 780]]\n",
      "\n",
      "Division:\n",
      " [[7.14285714 4.25      ]\n",
      " [1.47826087 5.41666667]]\n"
     ]
    }
   ],
   "source": [
    "# Solution\n",
    "print('Addition:\\n',m1+m2)\n",
    "print('\\nSubtraction:\\n',m1-m2)\n",
    "print('\\nMultiplicaton:\\n',m1*m2)\n",
    "print('\\nDivision:\\n',m1/m2)"
   ]
  },
  {
   "cell_type": "markdown",
   "metadata": {},
   "source": [
    "#### 17. Add the m1 with m3 by removing the first row and last column of m3"
   ]
  },
  {
   "cell_type": "code",
   "execution_count": 17,
   "metadata": {
    "scrolled": false
   },
   "outputs": [
    {
     "name": "stdout",
     "output_type": "stream",
     "text": [
      "Result:\n",
      " [[ 53 110]\n",
      " [ 40 119]]\n"
     ]
    }
   ],
   "source": [
    "# Solution\n",
    "print('Result:\\n',m1+m3[:2,:2])"
   ]
  },
  {
   "cell_type": "markdown",
   "metadata": {},
   "source": [
    "#### 18. Form the matrix m4 by concatenating (as a new row) the vector [me1, me2] with the matrix m1, where me1 and me2 are the mean values of each column on m1."
   ]
  },
  {
   "cell_type": "code",
   "execution_count": 18,
   "metadata": {},
   "outputs": [
    {
     "name": "stdout",
     "output_type": "stream",
     "text": [
      "Resultant matrix:\n",
      " [[50.  34. ]\n",
      " [34.  65. ]\n",
      " [42.  49.5]]\n"
     ]
    }
   ],
   "source": [
    "# Solution\n",
    "m4=np.concatenate((m1,np.mean(m1,axis=0).reshape(-1,2)),axis=0)\n",
    "print('Resultant matrix:\\n',m4)"
   ]
  },
  {
   "cell_type": "markdown",
   "metadata": {},
   "source": [
    "#### 19. Perform the matrix multiplication between m3 and m4"
   ]
  },
  {
   "cell_type": "code",
   "execution_count": 19,
   "metadata": {},
   "outputs": [
    {
     "name": "stdout",
     "output_type": "stream",
     "text": [
      "m3 x m4:\n",
      " [[2860.  5190.5]\n",
      " [2388.  4011. ]\n",
      " [ 906.   993. ]]\n"
     ]
    }
   ],
   "source": [
    "# Solution\n",
    "print('m3 x m4:\\n',np.matmul(m3,m4))"
   ]
  },
  {
   "cell_type": "markdown",
   "metadata": {},
   "source": [
    "#### 20. Compute the maximum and minimum value of mean, variance, standard deviation for each row of matrix created in question number 8."
   ]
  },
  {
   "cell_type": "code",
   "execution_count": 20,
   "metadata": {},
   "outputs": [
    {
     "name": "stdout",
     "output_type": "stream",
     "text": [
      "Max mean: 32.6\n",
      "Min mean: 11.2\n",
      "Max variance: 820.1600000000001\n",
      "Min variance: 39.760000000000005\n",
      "Max standard deviation: 28.63843571147\n",
      "Min standard deviation: 6.305553108173779\n"
     ]
    }
   ],
   "source": [
    "# Solution\n",
    "print('Max mean:',max(np.mean(numpy_array_8,axis=1)))\n",
    "print('Min mean:',min(np.mean(numpy_array_8,axis=1)))\n",
    "print('Max variance:',max(np.var(numpy_array_8,axis=1)))\n",
    "print('Min variance:',min(np.var(numpy_array_8,axis=1)))\n",
    "print('Max standard deviation:',max(np.std(numpy_array_8,axis=1)))\n",
    "print('Min standard deviation:',min(np.std(numpy_array_8,axis=1)))"
   ]
  },
  {
   "cell_type": "markdown",
   "metadata": {},
   "source": [
    "#### 21. Compute the average and strike rate for each player and sort it decending way (seperately for avg and strike rate)\n",
    "<img src = 'crick1.png'>"
   ]
  },
  {
   "cell_type": "code",
   "execution_count": 21,
   "metadata": {},
   "outputs": [
    {
     "name": "stdout",
     "output_type": "stream",
     "text": [
      "[('Kholi', 53.5), ('Rohit', 51.5), ('MSD', 47.25), ('Rahul', 29.0), ('Dhawan', 13.25)]\n",
      "[('Rahul', 161.11), ('Kholi', 101.42), ('MSD', 98.44), ('Rohit', 94.93), ('Dhawan', 49.53)]\n"
     ]
    }
   ],
   "source": [
    "# Solution \n",
    "runs=np.array([[54,60,10,65],[102,2,78,32],[3,110,1,92],[56,6,12,42],[12,8,22,11]])\n",
    "runs_dic={'MSD':runs[0],'Kholi':runs[1],'Rohit':runs[2],'Rahul':runs[3],'Dhawan':runs[4]}\n",
    "\n",
    "balls_faced=np.array([[50,42,22,78],[95,8,65,43],[9,100,7,101],[27,3,11,31],[24,20,36,27]])\n",
    "balls_dic={'MSD':balls_faced[0],'Kholi':balls_faced[1],'Rohit':balls_faced[2],'Rahul':balls_faced[3],'Dhawan':balls_faced[4]}\n",
    "\n",
    "runs_avg={}\n",
    "for player,runs in runs_dic.items():\n",
    "    runs_avg[player]=runs.mean()\n",
    "    \n",
    "strike_rate={}\n",
    "for (player,balls),(player,runs) in zip(balls_dic.items(),runs_dic.items()):\n",
    "    strike_rate[player]=round(runs.sum()*100/balls.sum(),2)\n",
    "    \n",
    "print(sorted(runs_avg.items(), key=lambda x: x[1],reverse=True))\n",
    "print(sorted(strike_rate.items(), key=lambda x: x[1],reverse=True))"
   ]
  },
  {
   "cell_type": "markdown",
   "metadata": {},
   "source": [
    "#### 22. The students mark was recorded in a numpy array: marks = np.array([65,84,47,56,89,98,48,77,80,39]).  Cutoff for pass is 50 marks. Write the logic to print the number of students passed and failed. "
   ]
  },
  {
   "cell_type": "code",
   "execution_count": 22,
   "metadata": {},
   "outputs": [
    {
     "name": "stdout",
     "output_type": "stream",
     "text": [
      "No. of students passed: 7\n",
      "No. of students failed: 3\n"
     ]
    }
   ],
   "source": [
    "# Solution\n",
    "marks = np.array([65,84,47,56,89,98,48,77,80,39])\n",
    "\n",
    "print('No. of students passed:',np.count_nonzero(marks>=50))\n",
    "print('No. of students failed:',np.count_nonzero(marks<50))"
   ]
  },
  {
   "cell_type": "markdown",
   "metadata": {},
   "source": [
    "#### 23. The class incharge decided to give a mercy mark of 5 for those who scored between 45 and 49. Also the bonus of 5 marks awarded to the students who scored more than 80. Print all the student marks and compute the increase in the pass percentage of class. Any score more than 100 must be recorded as only 100."
   ]
  },
  {
   "cell_type": "code",
   "execution_count": 23,
   "metadata": {},
   "outputs": [
    {
     "name": "stdout",
     "output_type": "stream",
     "text": [
      "Updated marks: [ 65  89  52  56  94 100  53  77  80  39]\n"
     ]
    }
   ],
   "source": [
    "# Solution\n",
    "marks[((marks>=45)&(marks<=49))|(marks>80)] =marks[((marks>=45)&(marks<=49))|(marks>80)]+5\n",
    "marks[marks>100]=100\n",
    "print('Updated marks:',marks)"
   ]
  },
  {
   "cell_type": "markdown",
   "metadata": {},
   "source": [
    "#### 24. Print the time taken for performing the following operation using list and numpy array\n",
    "####       (x(i)^2 +8) / y(i),   where x and y are real integers from 1 to 60000"
   ]
  },
  {
   "cell_type": "code",
   "execution_count": 24,
   "metadata": {},
   "outputs": [
    {
     "name": "stdout",
     "output_type": "stream",
     "text": [
      "List execution time in ms: 30.164241790771484\n",
      "Numpy execution time in ms: 7.717609405517578\n"
     ]
    }
   ],
   "source": [
    "# Solution\n",
    "import time\n",
    "list_1=[x for x in range(1,60000)]\n",
    "list_2=[y for y in range(1,60000)]\n",
    "\n",
    "start_time=time.time()\n",
    "result_list=[]\n",
    "for x,y in zip(list_1,list_2):\n",
    "    result_list.append((x**2+8)/y)\n",
    "end_time=time.time()\n",
    "print('List execution time in ms:',(end_time-start_time)*1000)\n",
    "\n",
    "start_time_numpy=time.time()\n",
    "numpy_list_1=np.array(list_1)\n",
    "numpy_list_2=np.array(list_2)\n",
    "numpy_result=((numpy_list_1**2)+8)/numpy_list_2\n",
    "end_time_numpy=time.time()\n",
    "print('Numpy execution time in ms:',(end_time_numpy-start_time_numpy)*1000)"
   ]
  },
  {
   "cell_type": "markdown",
   "metadata": {},
   "source": [
    "#### 25. Create a Github account and upload your solution with the short write-up on Numpy"
   ]
  },
  {
   "cell_type": "code",
   "execution_count": 25,
   "metadata": {},
   "outputs": [
    {
     "name": "stdout",
     "output_type": "stream",
     "text": [
      "Solution uploaded to https://github.com/Ashwin-Baskar/Python/blob/main/Lab_Exercise_3/Numpy_Exercise-Batch8.ipynb\n",
      "\n",
      "Short write up on Numpy:\n",
      "NumPy is the fundamental package for scientific computing in Python. It is a Python library that provides a multidimensional array object, various derived objects (such as masked arrays and matrices), and an assortment of routines for fast operations on arrays, including mathematical, logical, shape manipulation, sorting, selecting, I/O, discrete Fourier transforms, basic linear algebra, basic statistical operations, random simulation and much more.\n",
      "\n",
      "At the core of the NumPy package, is the ndarray object. This encapsulates n-dimensional arrays of homogeneous data types, with many operations being performed in compiled code for performance.\n",
      "\n"
     ]
    }
   ],
   "source": [
    "# Solution\n",
    "solutionURL='https://github.com/Ashwin-Baskar/Python/blob/main/Lab_Exercise_3/Numpy_Exercise-Batch8.ipynb'\n",
    "print('Solution uploaded to',solutionURL)\n",
    "\n",
    "url= 'https://raw.github.com/Ashwin-Baskar/Python/main/Numpy.txt'\n",
    "import requests\n",
    "page = requests.get(url)\n",
    "print('\\nShort write up on Numpy:\\n',page.text,sep='')"
   ]
  }
 ],
 "metadata": {
  "kernelspec": {
   "display_name": "Python 3",
   "language": "python",
   "name": "python3"
  },
  "language_info": {
   "codemirror_mode": {
    "name": "ipython",
    "version": 3
   },
   "file_extension": ".py",
   "mimetype": "text/x-python",
   "name": "python",
   "nbconvert_exporter": "python",
   "pygments_lexer": "ipython3",
   "version": "3.8.8"
  }
 },
 "nbformat": 4,
 "nbformat_minor": 2
}
